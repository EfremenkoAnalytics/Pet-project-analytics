{
 "cells": [
  {
   "cell_type": "code",
   "execution_count": 1,
   "id": "68b5ddd9",
   "metadata": {},
   "outputs": [],
   "source": [
    "import pandas as pd\n",
    "import matplotlib.pyplot as plt\n",
    "import numpy as np\n",
    "import seaborn as sns"
   ]
  },
  {
   "cell_type": "code",
   "execution_count": 2,
   "id": "18f061ef",
   "metadata": {},
   "outputs": [],
   "source": [
    "df = pd.read_csv('Product Analyst Test Task Data - Task 1.csv')"
   ]
  },
  {
   "cell_type": "markdown",
   "id": "4e5de79a",
   "metadata": {},
   "source": [
    "<h1>Спочатку оглянемо датасет"
   ]
  },
  {
   "cell_type": "code",
   "execution_count": 4,
   "id": "70ae3772",
   "metadata": {},
   "outputs": [
    {
     "data": {
      "text/html": [
       "<div>\n",
       "<style scoped>\n",
       "    .dataframe tbody tr th:only-of-type {\n",
       "        vertical-align: middle;\n",
       "    }\n",
       "\n",
       "    .dataframe tbody tr th {\n",
       "        vertical-align: top;\n",
       "    }\n",
       "\n",
       "    .dataframe thead th {\n",
       "        text-align: right;\n",
       "    }\n",
       "</style>\n",
       "<table border=\"1\" class=\"dataframe\">\n",
       "  <thead>\n",
       "    <tr style=\"text-align: right;\">\n",
       "      <th></th>\n",
       "      <th>trial</th>\n",
       "      <th>paid</th>\n",
       "      <th>revenue_1m</th>\n",
       "    </tr>\n",
       "  </thead>\n",
       "  <tbody>\n",
       "    <tr>\n",
       "      <th>count</th>\n",
       "      <td>15285.000000</td>\n",
       "      <td>15285.000000</td>\n",
       "      <td>15285.000000</td>\n",
       "    </tr>\n",
       "    <tr>\n",
       "      <th>mean</th>\n",
       "      <td>0.112725</td>\n",
       "      <td>0.017337</td>\n",
       "      <td>0.097297</td>\n",
       "    </tr>\n",
       "    <tr>\n",
       "      <th>std</th>\n",
       "      <td>0.316267</td>\n",
       "      <td>0.130529</td>\n",
       "      <td>0.782339</td>\n",
       "    </tr>\n",
       "    <tr>\n",
       "      <th>min</th>\n",
       "      <td>0.000000</td>\n",
       "      <td>0.000000</td>\n",
       "      <td>0.000000</td>\n",
       "    </tr>\n",
       "    <tr>\n",
       "      <th>25%</th>\n",
       "      <td>0.000000</td>\n",
       "      <td>0.000000</td>\n",
       "      <td>0.000000</td>\n",
       "    </tr>\n",
       "    <tr>\n",
       "      <th>50%</th>\n",
       "      <td>0.000000</td>\n",
       "      <td>0.000000</td>\n",
       "      <td>0.000000</td>\n",
       "    </tr>\n",
       "    <tr>\n",
       "      <th>75%</th>\n",
       "      <td>0.000000</td>\n",
       "      <td>0.000000</td>\n",
       "      <td>0.000000</td>\n",
       "    </tr>\n",
       "    <tr>\n",
       "      <th>max</th>\n",
       "      <td>1.000000</td>\n",
       "      <td>1.000000</td>\n",
       "      <td>11.960000</td>\n",
       "    </tr>\n",
       "  </tbody>\n",
       "</table>\n",
       "</div>"
      ],
      "text/plain": [
       "              trial          paid    revenue_1m\n",
       "count  15285.000000  15285.000000  15285.000000\n",
       "mean       0.112725      0.017337      0.097297\n",
       "std        0.316267      0.130529      0.782339\n",
       "min        0.000000      0.000000      0.000000\n",
       "25%        0.000000      0.000000      0.000000\n",
       "50%        0.000000      0.000000      0.000000\n",
       "75%        0.000000      0.000000      0.000000\n",
       "max        1.000000      1.000000     11.960000"
      ]
     },
     "execution_count": 4,
     "metadata": {},
     "output_type": "execute_result"
    }
   ],
   "source": [
    "df.describe()"
   ]
  },
  {
   "cell_type": "code",
   "execution_count": 5,
   "id": "8050337e",
   "metadata": {},
   "outputs": [
    {
     "name": "stdout",
     "output_type": "stream",
     "text": [
      "<class 'pandas.core.frame.DataFrame'>\n",
      "RangeIndex: 15285 entries, 0 to 15284\n",
      "Data columns (total 8 columns):\n",
      " #   Column             Non-Null Count  Dtype  \n",
      "---  ------             --------------  -----  \n",
      " 0   user_id            15285 non-null  object \n",
      " 1   install_date       15285 non-null  object \n",
      " 2   country            15285 non-null  object \n",
      " 3   test_group         15285 non-null  object \n",
      " 4   trial              15285 non-null  int64  \n",
      " 5   paid               15285 non-null  int64  \n",
      " 6   subscription_name  1723 non-null   object \n",
      " 7   revenue_1m         15285 non-null  float64\n",
      "dtypes: float64(1), int64(2), object(5)\n",
      "memory usage: 955.4+ KB\n"
     ]
    }
   ],
   "source": [
    "df.info()"
   ]
  },
  {
   "cell_type": "code",
   "execution_count": 6,
   "id": "aac8fde7",
   "metadata": {},
   "outputs": [
    {
     "data": {
      "text/plain": [
       "user_id                  0\n",
       "install_date             0\n",
       "country                  0\n",
       "test_group               0\n",
       "trial                    0\n",
       "paid                     0\n",
       "subscription_name    13562\n",
       "revenue_1m               0\n",
       "dtype: int64"
      ]
     },
     "execution_count": 6,
     "metadata": {},
     "output_type": "execute_result"
    }
   ],
   "source": [
    "df.isna().sum()"
   ]
  },
  {
   "cell_type": "code",
   "execution_count": 7,
   "id": "20956d26",
   "metadata": {},
   "outputs": [
    {
     "data": {
      "text/plain": [
       "0"
      ]
     },
     "execution_count": 7,
     "metadata": {},
     "output_type": "execute_result"
    }
   ],
   "source": [
    "df.duplicated().sum()"
   ]
  },
  {
   "cell_type": "code",
   "execution_count": 8,
   "id": "67848b3e",
   "metadata": {},
   "outputs": [
    {
     "data": {
      "text/html": [
       "<div>\n",
       "<style scoped>\n",
       "    .dataframe tbody tr th:only-of-type {\n",
       "        vertical-align: middle;\n",
       "    }\n",
       "\n",
       "    .dataframe tbody tr th {\n",
       "        vertical-align: top;\n",
       "    }\n",
       "\n",
       "    .dataframe thead th {\n",
       "        text-align: right;\n",
       "    }\n",
       "</style>\n",
       "<table border=\"1\" class=\"dataframe\">\n",
       "  <thead>\n",
       "    <tr style=\"text-align: right;\">\n",
       "      <th></th>\n",
       "      <th>user_id</th>\n",
       "      <th>install_date</th>\n",
       "      <th>country</th>\n",
       "      <th>test_group</th>\n",
       "      <th>trial</th>\n",
       "      <th>paid</th>\n",
       "      <th>subscription_name</th>\n",
       "      <th>revenue_1m</th>\n",
       "    </tr>\n",
       "  </thead>\n",
       "  <tbody>\n",
       "    <tr>\n",
       "      <th>0</th>\n",
       "      <td>0000dd3fa4702a63d1b76aaffe1ab39b</td>\n",
       "      <td>2023-06-05</td>\n",
       "      <td>US</td>\n",
       "      <td>treatment</td>\n",
       "      <td>0</td>\n",
       "      <td>0</td>\n",
       "      <td>NaN</td>\n",
       "      <td>0.0</td>\n",
       "    </tr>\n",
       "    <tr>\n",
       "      <th>1</th>\n",
       "      <td>0001f27ab7e22228e54c8b2028b43f24</td>\n",
       "      <td>2023-06-07</td>\n",
       "      <td>AU</td>\n",
       "      <td>treatment</td>\n",
       "      <td>0</td>\n",
       "      <td>0</td>\n",
       "      <td>NaN</td>\n",
       "      <td>0.0</td>\n",
       "    </tr>\n",
       "    <tr>\n",
       "      <th>2</th>\n",
       "      <td>0006c5c547801308b36ea3cf669856ae</td>\n",
       "      <td>2023-06-07</td>\n",
       "      <td>AU</td>\n",
       "      <td>treatment</td>\n",
       "      <td>0</td>\n",
       "      <td>0</td>\n",
       "      <td>NaN</td>\n",
       "      <td>0.0</td>\n",
       "    </tr>\n",
       "    <tr>\n",
       "      <th>3</th>\n",
       "      <td>000d1a300263c5db91cbefa3852898a7</td>\n",
       "      <td>2023-06-07</td>\n",
       "      <td>AU</td>\n",
       "      <td>control</td>\n",
       "      <td>0</td>\n",
       "      <td>0</td>\n",
       "      <td>NaN</td>\n",
       "      <td>0.0</td>\n",
       "    </tr>\n",
       "    <tr>\n",
       "      <th>4</th>\n",
       "      <td>000e5e62e8746e467ed9f49ac5de3208</td>\n",
       "      <td>2023-06-06</td>\n",
       "      <td>US</td>\n",
       "      <td>treatment</td>\n",
       "      <td>0</td>\n",
       "      <td>0</td>\n",
       "      <td>NaN</td>\n",
       "      <td>0.0</td>\n",
       "    </tr>\n",
       "  </tbody>\n",
       "</table>\n",
       "</div>"
      ],
      "text/plain": [
       "                            user_id install_date country test_group  trial  \\\n",
       "0  0000dd3fa4702a63d1b76aaffe1ab39b   2023-06-05      US  treatment      0   \n",
       "1  0001f27ab7e22228e54c8b2028b43f24   2023-06-07      AU  treatment      0   \n",
       "2  0006c5c547801308b36ea3cf669856ae   2023-06-07      AU  treatment      0   \n",
       "3  000d1a300263c5db91cbefa3852898a7   2023-06-07      AU    control      0   \n",
       "4  000e5e62e8746e467ed9f49ac5de3208   2023-06-06      US  treatment      0   \n",
       "\n",
       "   paid subscription_name  revenue_1m  \n",
       "0     0               NaN         0.0  \n",
       "1     0               NaN         0.0  \n",
       "2     0               NaN         0.0  \n",
       "3     0               NaN         0.0  \n",
       "4     0               NaN         0.0  "
      ]
     },
     "execution_count": 8,
     "metadata": {},
     "output_type": "execute_result"
    }
   ],
   "source": [
    "df.head()"
   ]
  },
  {
   "cell_type": "markdown",
   "id": "116939ec",
   "metadata": {},
   "source": [
    "<h1>Розрахуємо конверсії для тестової і контрольної групи"
   ]
  },
  {
   "cell_type": "code",
   "execution_count": 95,
   "id": "23060ea8",
   "metadata": {},
   "outputs": [
    {
     "data": {
      "text/html": [
       "<div>\n",
       "<style scoped>\n",
       "    .dataframe tbody tr th:only-of-type {\n",
       "        vertical-align: middle;\n",
       "    }\n",
       "\n",
       "    .dataframe tbody tr th {\n",
       "        vertical-align: top;\n",
       "    }\n",
       "\n",
       "    .dataframe thead th {\n",
       "        text-align: right;\n",
       "    }\n",
       "</style>\n",
       "<table border=\"1\" class=\"dataframe\">\n",
       "  <thead>\n",
       "    <tr style=\"text-align: right;\">\n",
       "      <th></th>\n",
       "      <th>trial</th>\n",
       "      <th>paid</th>\n",
       "      <th>user_id</th>\n",
       "    </tr>\n",
       "    <tr>\n",
       "      <th>test_group</th>\n",
       "      <th></th>\n",
       "      <th></th>\n",
       "      <th></th>\n",
       "    </tr>\n",
       "  </thead>\n",
       "  <tbody>\n",
       "    <tr>\n",
       "      <th>control</th>\n",
       "      <td>925</td>\n",
       "      <td>116</td>\n",
       "      <td>7627</td>\n",
       "    </tr>\n",
       "    <tr>\n",
       "      <th>treatment</th>\n",
       "      <td>798</td>\n",
       "      <td>149</td>\n",
       "      <td>7658</td>\n",
       "    </tr>\n",
       "  </tbody>\n",
       "</table>\n",
       "</div>"
      ],
      "text/plain": [
       "            trial  paid  user_id\n",
       "test_group                      \n",
       "control       925   116     7627\n",
       "treatment     798   149     7658"
      ]
     },
     "execution_count": 95,
     "metadata": {},
     "output_type": "execute_result"
    }
   ],
   "source": [
    "metrics = df.groupby('test_group').agg({'trial':'sum', \n",
    "                                                    'paid':'sum',\n",
    "                                                   'user_id':'count'})\n",
    "metrics"
   ]
  },
  {
   "cell_type": "code",
   "execution_count": 177,
   "id": "e47fa05b",
   "metadata": {},
   "outputs": [
    {
     "data": {
      "text/html": [
       "<div>\n",
       "<style scoped>\n",
       "    .dataframe tbody tr th:only-of-type {\n",
       "        vertical-align: middle;\n",
       "    }\n",
       "\n",
       "    .dataframe tbody tr th {\n",
       "        vertical-align: top;\n",
       "    }\n",
       "\n",
       "    .dataframe thead th {\n",
       "        text-align: right;\n",
       "    }\n",
       "</style>\n",
       "<table border=\"1\" class=\"dataframe\">\n",
       "  <thead>\n",
       "    <tr style=\"text-align: right;\">\n",
       "      <th></th>\n",
       "      <th>trial</th>\n",
       "      <th>paid</th>\n",
       "      <th>user_id</th>\n",
       "      <th>Trial/Install</th>\n",
       "      <th>Paid/Trial</th>\n",
       "      <th>Puchase/Install</th>\n",
       "    </tr>\n",
       "    <tr>\n",
       "      <th>test_group</th>\n",
       "      <th></th>\n",
       "      <th></th>\n",
       "      <th></th>\n",
       "      <th></th>\n",
       "      <th></th>\n",
       "      <th></th>\n",
       "    </tr>\n",
       "  </thead>\n",
       "  <tbody>\n",
       "    <tr>\n",
       "      <th>control</th>\n",
       "      <td>925</td>\n",
       "      <td>116</td>\n",
       "      <td>7627</td>\n",
       "      <td>12.13</td>\n",
       "      <td>12.54</td>\n",
       "      <td>1.52</td>\n",
       "    </tr>\n",
       "    <tr>\n",
       "      <th>treatment</th>\n",
       "      <td>798</td>\n",
       "      <td>149</td>\n",
       "      <td>7658</td>\n",
       "      <td>10.42</td>\n",
       "      <td>18.67</td>\n",
       "      <td>1.95</td>\n",
       "    </tr>\n",
       "  </tbody>\n",
       "</table>\n",
       "</div>"
      ],
      "text/plain": [
       "            trial  paid  user_id  Trial/Install  Paid/Trial  Puchase/Install\n",
       "test_group                                                                  \n",
       "control       925   116     7627          12.13       12.54             1.52\n",
       "treatment     798   149     7658          10.42       18.67             1.95"
      ]
     },
     "execution_count": 177,
     "metadata": {},
     "output_type": "execute_result"
    }
   ],
   "source": [
    "metrics['Trial/Install'] = round(mectrics['trial']/mectrics['user_id']*100,2)\n",
    "metrics['Paid/Trial'] = round(mectrics['paid']/mectrics['trial']*100,2)\n",
    "metrics['Puchase/Install'] = round(mectrics['paid']/mectrics['user_id']*100,2)\n",
    "metrics"
   ]
  },
  {
   "cell_type": "code",
   "execution_count": 97,
   "id": "068bfa63",
   "metadata": {},
   "outputs": [
    {
     "data": {
      "text/html": [
       "<div>\n",
       "<style scoped>\n",
       "    .dataframe tbody tr th:only-of-type {\n",
       "        vertical-align: middle;\n",
       "    }\n",
       "\n",
       "    .dataframe tbody tr th {\n",
       "        vertical-align: top;\n",
       "    }\n",
       "\n",
       "    .dataframe thead th {\n",
       "        text-align: right;\n",
       "    }\n",
       "</style>\n",
       "<table border=\"1\" class=\"dataframe\">\n",
       "  <thead>\n",
       "    <tr style=\"text-align: right;\">\n",
       "      <th></th>\n",
       "      <th>trial</th>\n",
       "      <th>paid</th>\n",
       "      <th>user_id</th>\n",
       "      <th>Conv_Trial/Install</th>\n",
       "      <th>Conv_Paid/Trial</th>\n",
       "    </tr>\n",
       "    <tr>\n",
       "      <th>test_group</th>\n",
       "      <th></th>\n",
       "      <th></th>\n",
       "      <th></th>\n",
       "      <th></th>\n",
       "      <th></th>\n",
       "    </tr>\n",
       "  </thead>\n",
       "  <tbody>\n",
       "    <tr>\n",
       "      <th>control</th>\n",
       "      <td>925</td>\n",
       "      <td>116</td>\n",
       "      <td>7627</td>\n",
       "      <td>12.13</td>\n",
       "      <td>12.54</td>\n",
       "    </tr>\n",
       "    <tr>\n",
       "      <th>treatment</th>\n",
       "      <td>798</td>\n",
       "      <td>149</td>\n",
       "      <td>7658</td>\n",
       "      <td>10.42</td>\n",
       "      <td>18.67</td>\n",
       "    </tr>\n",
       "  </tbody>\n",
       "</table>\n",
       "</div>"
      ],
      "text/plain": [
       "            trial  paid  user_id  Conv_Trial/Install  Conv_Paid/Trial\n",
       "test_group                                                           \n",
       "control       925   116     7627               12.13            12.54\n",
       "treatment     798   149     7658               10.42            18.67"
      ]
     },
     "execution_count": 97,
     "metadata": {},
     "output_type": "execute_result"
    }
   ],
   "source": [
    "metrics.rename(columns={'Trial/Install':'Conv_Trial/Install','Paid/Trial':'Conv_Paid/Trial'})"
   ]
  },
  {
   "cell_type": "markdown",
   "id": "870f0a5e",
   "metadata": {},
   "source": [
    "<h1>Подивимось чи правильний розподіл по катергоріям юзерів в тестовій і контрольній групі"
   ]
  },
  {
   "cell_type": "code",
   "execution_count": 35,
   "id": "180f73fe",
   "metadata": {},
   "outputs": [],
   "source": [
    "def segment_distribution(df, segment_columns, group):\n",
    "    for segment in segment_columns:\n",
    "        agg_data = df.groupby(by = [group, segment]).user_id.count().reset_index()\n",
    "        sns.catplot(x=segment, y='user_id', hue = group, data=agg_data, kind='bar', height = 5, aspect = 2)"
   ]
  },
  {
   "cell_type": "code",
   "execution_count": 36,
   "id": "363718a6",
   "metadata": {},
   "outputs": [
    {
     "name": "stderr",
     "output_type": "stream",
     "text": [
      "E:\\anaconda\\Lib\\site-packages\\seaborn\\axisgrid.py:118: UserWarning: The figure layout has changed to tight\n",
      "  self._figure.tight_layout(*args, **kwargs)\n",
      "E:\\anaconda\\Lib\\site-packages\\seaborn\\axisgrid.py:118: UserWarning: The figure layout has changed to tight\n",
      "  self._figure.tight_layout(*args, **kwargs)\n"
     ]
    },
    {
     "data": {
      "image/png": "[encoded data removed]",
      "text/plain": [
       "<Figure size 1119.88x500 with 1 Axes>"
      ]
     },
     "metadata": {},
     "output_type": "display_data"
    },
    {
     "data": {
      "image/png": "[encoded data removed]",
      "text/plain": [
       "<Figure size 1119.88x500 with 1 Axes>"
      ]
     },
     "metadata": {},
     "output_type": "display_data"
    }
   ],
   "source": [
    "segment_distribution(df, ['country', 'revenue_1m'], 'test_group')"
   ]
  },
  {
   "cell_type": "markdown",
   "id": "4c4a150a",
   "metadata": {},
   "source": [
    "<h1>Подивимось результати по GEO"
   ]
  },
  {
   "cell_type": "code",
   "execution_count": 63,
   "id": "80e86a4d",
   "metadata": {},
   "outputs": [
    {
     "data": {
      "text/html": [
       "<div>\n",
       "<style scoped>\n",
       "    .dataframe tbody tr th:only-of-type {\n",
       "        vertical-align: middle;\n",
       "    }\n",
       "\n",
       "    .dataframe tbody tr th {\n",
       "        vertical-align: top;\n",
       "    }\n",
       "\n",
       "    .dataframe thead th {\n",
       "        text-align: right;\n",
       "    }\n",
       "</style>\n",
       "<table border=\"1\" class=\"dataframe\">\n",
       "  <thead>\n",
       "    <tr style=\"text-align: right;\">\n",
       "      <th></th>\n",
       "      <th>country</th>\n",
       "      <th>test_group</th>\n",
       "      <th>revenue_1m</th>\n",
       "      <th>trial</th>\n",
       "      <th>paid</th>\n",
       "      <th>user_id</th>\n",
       "      <th>Trial/Install</th>\n",
       "      <th>Paid/Trial</th>\n",
       "    </tr>\n",
       "  </thead>\n",
       "  <tbody>\n",
       "    <tr>\n",
       "      <th>0</th>\n",
       "      <td>AU</td>\n",
       "      <td>control</td>\n",
       "      <td>179.70</td>\n",
       "      <td>228</td>\n",
       "      <td>30</td>\n",
       "      <td>1928</td>\n",
       "      <td>11.83</td>\n",
       "      <td>13.16</td>\n",
       "    </tr>\n",
       "    <tr>\n",
       "      <th>1</th>\n",
       "      <td>AU</td>\n",
       "      <td>treatment</td>\n",
       "      <td>209.30</td>\n",
       "      <td>191</td>\n",
       "      <td>39</td>\n",
       "      <td>1835</td>\n",
       "      <td>10.41</td>\n",
       "      <td>20.42</td>\n",
       "    </tr>\n",
       "    <tr>\n",
       "      <th>2</th>\n",
       "      <td>CA</td>\n",
       "      <td>control</td>\n",
       "      <td>107.82</td>\n",
       "      <td>219</td>\n",
       "      <td>18</td>\n",
       "      <td>1936</td>\n",
       "      <td>11.31</td>\n",
       "      <td>8.22</td>\n",
       "    </tr>\n",
       "    <tr>\n",
       "      <th>3</th>\n",
       "      <td>CA</td>\n",
       "      <td>treatment</td>\n",
       "      <td>185.38</td>\n",
       "      <td>208</td>\n",
       "      <td>37</td>\n",
       "      <td>1959</td>\n",
       "      <td>10.62</td>\n",
       "      <td>17.79</td>\n",
       "    </tr>\n",
       "    <tr>\n",
       "      <th>4</th>\n",
       "      <td>GB</td>\n",
       "      <td>control</td>\n",
       "      <td>209.65</td>\n",
       "      <td>270</td>\n",
       "      <td>35</td>\n",
       "      <td>1846</td>\n",
       "      <td>14.63</td>\n",
       "      <td>12.96</td>\n",
       "    </tr>\n",
       "    <tr>\n",
       "      <th>5</th>\n",
       "      <td>GB</td>\n",
       "      <td>treatment</td>\n",
       "      <td>221.26</td>\n",
       "      <td>209</td>\n",
       "      <td>41</td>\n",
       "      <td>1991</td>\n",
       "      <td>10.50</td>\n",
       "      <td>19.62</td>\n",
       "    </tr>\n",
       "    <tr>\n",
       "      <th>6</th>\n",
       "      <td>US</td>\n",
       "      <td>control</td>\n",
       "      <td>197.67</td>\n",
       "      <td>208</td>\n",
       "      <td>33</td>\n",
       "      <td>1917</td>\n",
       "      <td>10.85</td>\n",
       "      <td>15.87</td>\n",
       "    </tr>\n",
       "    <tr>\n",
       "      <th>7</th>\n",
       "      <td>US</td>\n",
       "      <td>treatment</td>\n",
       "      <td>176.41</td>\n",
       "      <td>190</td>\n",
       "      <td>32</td>\n",
       "      <td>1873</td>\n",
       "      <td>10.14</td>\n",
       "      <td>16.84</td>\n",
       "    </tr>\n",
       "  </tbody>\n",
       "</table>\n",
       "</div>"
      ],
      "text/plain": [
       "  country test_group  revenue_1m  trial  paid  user_id  Trial/Install  \\\n",
       "0      AU    control      179.70    228    30     1928          11.83   \n",
       "1      AU  treatment      209.30    191    39     1835          10.41   \n",
       "2      CA    control      107.82    219    18     1936          11.31   \n",
       "3      CA  treatment      185.38    208    37     1959          10.62   \n",
       "4      GB    control      209.65    270    35     1846          14.63   \n",
       "5      GB  treatment      221.26    209    41     1991          10.50   \n",
       "6      US    control      197.67    208    33     1917          10.85   \n",
       "7      US  treatment      176.41    190    32     1873          10.14   \n",
       "\n",
       "   Paid/Trial  \n",
       "0       13.16  \n",
       "1       20.42  \n",
       "2        8.22  \n",
       "3       17.79  \n",
       "4       12.96  \n",
       "5       19.62  \n",
       "6       15.87  \n",
       "7       16.84  "
      ]
     },
     "execution_count": 63,
     "metadata": {},
     "output_type": "execute_result"
    }
   ],
   "source": [
    "revenue = df.groupby(['country', 'test_group']).agg({'revenue_1m':'sum',\n",
    "                                                     'trial':'sum', \n",
    "                                                    'paid':'sum',\n",
    "                                                   'user_id':'count'\n",
    "                                                    }).reset_index()\n",
    "revenue['Trial/Install'] = round(revenue['trial']/revenue['user_id']*100,2)\n",
    "revenue['Paid/Trial'] = round(revenue['paid']/revenue['trial']*100,2)\n",
    "revenue"
   ]
  },
  {
   "cell_type": "code",
   "execution_count": 64,
   "id": "91b7c16f",
   "metadata": {},
   "outputs": [],
   "source": [
    "df['install_date']=pd.to_datetime(df['install_date'])\n"
   ]
  },
  {
   "cell_type": "code",
   "execution_count": 55,
   "id": "0b71e422",
   "metadata": {},
   "outputs": [
    {
     "data": {
      "text/plain": [
       "Timestamp('2023-06-07 00:00:00')"
      ]
     },
     "execution_count": 55,
     "metadata": {},
     "output_type": "execute_result"
    }
   ],
   "source": [
    "df['install_date'].max()"
   ]
  },
  {
   "cell_type": "code",
   "execution_count": 66,
   "id": "c05f346f",
   "metadata": {},
   "outputs": [
    {
     "data": {
      "text/plain": [
       "<Axes: >"
      ]
     },
     "execution_count": 66,
     "metadata": {},
     "output_type": "execute_result"
    },
    {
     "data": {
      "image/png": "[encoded data removed]",
      "text/plain": [
       "<Figure size 640x480 with 1 Axes>"
      ]
     },
     "metadata": {},
     "output_type": "display_data"
    }
   ],
   "source": [
    "df['revenue_1m'].hist()"
   ]
  },
  {
   "cell_type": "code",
   "execution_count": 68,
   "id": "0a7860b7",
   "metadata": {},
   "outputs": [
    {
     "data": {
      "text/html": [
       "<div>\n",
       "<style scoped>\n",
       "    .dataframe tbody tr th:only-of-type {\n",
       "        vertical-align: middle;\n",
       "    }\n",
       "\n",
       "    .dataframe tbody tr th {\n",
       "        vertical-align: top;\n",
       "    }\n",
       "\n",
       "    .dataframe thead th {\n",
       "        text-align: right;\n",
       "    }\n",
       "</style>\n",
       "<table border=\"1\" class=\"dataframe\">\n",
       "  <thead>\n",
       "    <tr style=\"text-align: right;\">\n",
       "      <th></th>\n",
       "      <th>user_id</th>\n",
       "      <th>install_date</th>\n",
       "      <th>country</th>\n",
       "      <th>test_group</th>\n",
       "      <th>trial</th>\n",
       "      <th>paid</th>\n",
       "      <th>subscription_name</th>\n",
       "      <th>revenue_1m</th>\n",
       "    </tr>\n",
       "  </thead>\n",
       "  <tbody>\n",
       "    <tr>\n",
       "      <th>0</th>\n",
       "      <td>0000dd3fa4702a63d1b76aaffe1ab39b</td>\n",
       "      <td>2023-06-05</td>\n",
       "      <td>US</td>\n",
       "      <td>treatment</td>\n",
       "      <td>0</td>\n",
       "      <td>0</td>\n",
       "      <td>NaN</td>\n",
       "      <td>0.0</td>\n",
       "    </tr>\n",
       "    <tr>\n",
       "      <th>1</th>\n",
       "      <td>0001f27ab7e22228e54c8b2028b43f24</td>\n",
       "      <td>2023-06-07</td>\n",
       "      <td>AU</td>\n",
       "      <td>treatment</td>\n",
       "      <td>0</td>\n",
       "      <td>0</td>\n",
       "      <td>NaN</td>\n",
       "      <td>0.0</td>\n",
       "    </tr>\n",
       "    <tr>\n",
       "      <th>2</th>\n",
       "      <td>0006c5c547801308b36ea3cf669856ae</td>\n",
       "      <td>2023-06-07</td>\n",
       "      <td>AU</td>\n",
       "      <td>treatment</td>\n",
       "      <td>0</td>\n",
       "      <td>0</td>\n",
       "      <td>NaN</td>\n",
       "      <td>0.0</td>\n",
       "    </tr>\n",
       "    <tr>\n",
       "      <th>3</th>\n",
       "      <td>000d1a300263c5db91cbefa3852898a7</td>\n",
       "      <td>2023-06-07</td>\n",
       "      <td>AU</td>\n",
       "      <td>control</td>\n",
       "      <td>0</td>\n",
       "      <td>0</td>\n",
       "      <td>NaN</td>\n",
       "      <td>0.0</td>\n",
       "    </tr>\n",
       "    <tr>\n",
       "      <th>4</th>\n",
       "      <td>000e5e62e8746e467ed9f49ac5de3208</td>\n",
       "      <td>2023-06-06</td>\n",
       "      <td>US</td>\n",
       "      <td>treatment</td>\n",
       "      <td>0</td>\n",
       "      <td>0</td>\n",
       "      <td>NaN</td>\n",
       "      <td>0.0</td>\n",
       "    </tr>\n",
       "  </tbody>\n",
       "</table>\n",
       "</div>"
      ],
      "text/plain": [
       "                            user_id install_date country test_group  trial  \\\n",
       "0  0000dd3fa4702a63d1b76aaffe1ab39b   2023-06-05      US  treatment      0   \n",
       "1  0001f27ab7e22228e54c8b2028b43f24   2023-06-07      AU  treatment      0   \n",
       "2  0006c5c547801308b36ea3cf669856ae   2023-06-07      AU  treatment      0   \n",
       "3  000d1a300263c5db91cbefa3852898a7   2023-06-07      AU    control      0   \n",
       "4  000e5e62e8746e467ed9f49ac5de3208   2023-06-06      US  treatment      0   \n",
       "\n",
       "   paid subscription_name  revenue_1m  \n",
       "0     0               NaN         0.0  \n",
       "1     0               NaN         0.0  \n",
       "2     0               NaN         0.0  \n",
       "3     0               NaN         0.0  \n",
       "4     0               NaN         0.0  "
      ]
     },
     "execution_count": 68,
     "metadata": {},
     "output_type": "execute_result"
    }
   ],
   "source": [
    "df.head()"
   ]
  },
  {
   "cell_type": "markdown",
   "id": "c7c1bede",
   "metadata": {},
   "source": [
    "<h1> ARPU/ARPPU"
   ]
  },
  {
   "cell_type": "code",
   "execution_count": 86,
   "id": "4e34a226",
   "metadata": {},
   "outputs": [
    {
     "data": {
      "text/html": [
       "<div>\n",
       "<style scoped>\n",
       "    .dataframe tbody tr th:only-of-type {\n",
       "        vertical-align: middle;\n",
       "    }\n",
       "\n",
       "    .dataframe tbody tr th {\n",
       "        vertical-align: top;\n",
       "    }\n",
       "\n",
       "    .dataframe thead th {\n",
       "        text-align: right;\n",
       "    }\n",
       "</style>\n",
       "<table border=\"1\" class=\"dataframe\">\n",
       "  <thead>\n",
       "    <tr style=\"text-align: right;\">\n",
       "      <th></th>\n",
       "      <th>revenue_1m</th>\n",
       "    </tr>\n",
       "    <tr>\n",
       "      <th>test_group</th>\n",
       "      <th></th>\n",
       "    </tr>\n",
       "  </thead>\n",
       "  <tbody>\n",
       "    <tr>\n",
       "      <th>control</th>\n",
       "      <td>5.990000</td>\n",
       "    </tr>\n",
       "    <tr>\n",
       "      <th>treatment</th>\n",
       "      <td>5.317785</td>\n",
       "    </tr>\n",
       "  </tbody>\n",
       "</table>\n",
       "</div>"
      ],
      "text/plain": [
       "            revenue_1m\n",
       "test_group            \n",
       "control       5.990000\n",
       "treatment     5.317785"
      ]
     },
     "execution_count": 86,
     "metadata": {},
     "output_type": "execute_result"
    }
   ],
   "source": [
    "df_paid_users = df[df['revenue_1m']>0]\n",
    "ARPPU = df_paid_users.groupby('test_group').agg({'revenue_1m':'mean'})\n",
    "\n",
    "ARPPU"
   ]
  },
  {
   "cell_type": "code",
   "execution_count": 87,
   "id": "0340ba58",
   "metadata": {},
   "outputs": [
    {
     "data": {
      "text/html": [
       "<div>\n",
       "<style scoped>\n",
       "    .dataframe tbody tr th:only-of-type {\n",
       "        vertical-align: middle;\n",
       "    }\n",
       "\n",
       "    .dataframe tbody tr th {\n",
       "        vertical-align: top;\n",
       "    }\n",
       "\n",
       "    .dataframe thead th {\n",
       "        text-align: right;\n",
       "    }\n",
       "</style>\n",
       "<table border=\"1\" class=\"dataframe\">\n",
       "  <thead>\n",
       "    <tr style=\"text-align: right;\">\n",
       "      <th></th>\n",
       "      <th>revenue_1m</th>\n",
       "    </tr>\n",
       "    <tr>\n",
       "      <th>test_group</th>\n",
       "      <th></th>\n",
       "    </tr>\n",
       "  </thead>\n",
       "  <tbody>\n",
       "    <tr>\n",
       "      <th>control</th>\n",
       "      <td>0.091103</td>\n",
       "    </tr>\n",
       "    <tr>\n",
       "      <th>treatment</th>\n",
       "      <td>0.103467</td>\n",
       "    </tr>\n",
       "  </tbody>\n",
       "</table>\n",
       "</div>"
      ],
      "text/plain": [
       "            revenue_1m\n",
       "test_group            \n",
       "control       0.091103\n",
       "treatment     0.103467"
      ]
     },
     "execution_count": 87,
     "metadata": {},
     "output_type": "execute_result"
    }
   ],
   "source": [
    "ARPU = df.groupby('test_group').agg({'revenue_1m':'mean',})\n",
    "ARPU"
   ]
  },
  {
   "cell_type": "markdown",
   "id": "76c2f0f9",
   "metadata": {},
   "source": [
    "<h1>Проведемо стат. тест Хі-квадрат для біноміальної метрики конверсії"
   ]
  },
  {
   "cell_type": "code",
   "execution_count": 88,
   "id": "b0127a22",
   "metadata": {},
   "outputs": [],
   "source": [
    "import statsmodels.stats.proportion as proportion"
   ]
  },
  {
   "cell_type": "code",
   "execution_count": 91,
   "id": "b20ad7ea",
   "metadata": {},
   "outputs": [],
   "source": [
    "??proportion.proportions_chisquare"
   ]
  },
  {
   "cell_type": "code",
   "execution_count": 175,
   "id": "e195d7b1",
   "metadata": {},
   "outputs": [
    {
     "data": {
      "text/plain": [
       "0.04425398431753957"
      ]
     },
     "execution_count": 175,
     "metadata": {},
     "output_type": "execute_result"
    }
   ],
   "source": [
    "chi2stat, pval, table = proportion.proportions_chisquare(metrics['paid'],metrics['user_id'])\n",
    "pval"
   ]
  },
  {
   "cell_type": "code",
   "execution_count": 101,
   "id": "54dfb50b",
   "metadata": {},
   "outputs": [],
   "source": [
    "alpha = 0.05"
   ]
  },
  {
   "cell_type": "code",
   "execution_count": 103,
   "id": "6905c611",
   "metadata": {},
   "outputs": [
    {
     "name": "stdout",
     "output_type": "stream",
     "text": [
      "True\n"
     ]
    }
   ],
   "source": [
    "print(pval<alpha)"
   ]
  },
  {
   "cell_type": "markdown",
   "id": "71d9145e",
   "metadata": {},
   "source": [
    "<h1>Статистично значима різниця в конверсії знайдена, так як p-value нижче вибраної межі помилки першого типу 0,05."
   ]
  },
  {
   "cell_type": "code",
   "execution_count": 104,
   "id": "030eb091",
   "metadata": {},
   "outputs": [
    {
     "name": "stdout",
     "output_type": "stream",
     "text": [
      "Collecting bootstrapped\n",
      "  Downloading bootstrapped-0.0.2.tar.gz (11 kB)\n",
      "  Preparing metadata (setup.py): started\n",
      "  Preparing metadata (setup.py): finished with status 'done'\n",
      "Requirement already satisfied: matplotlib>=1.5.3 in e:\\anaconda\\lib\\site-packages (from bootstrapped) (3.7.2)\n",
      "Requirement already satisfied: numpy>=1.11.1 in e:\\anaconda\\lib\\site-packages (from bootstrapped) (1.24.3)\n",
      "Requirement already satisfied: pandas>=0.18.1 in e:\\anaconda\\lib\\site-packages (from bootstrapped) (2.0.3)\n",
      "Requirement already satisfied: contourpy>=1.0.1 in e:\\anaconda\\lib\\site-packages (from matplotlib>=1.5.3->bootstrapped) (1.0.5)\n",
      "Requirement already satisfied: cycler>=0.10 in e:\\anaconda\\lib\\site-packages (from matplotlib>=1.5.3->bootstrapped) (0.11.0)\n",
      "Requirement already satisfied: fonttools>=4.22.0 in e:\\anaconda\\lib\\site-packages (from matplotlib>=1.5.3->bootstrapped) (4.25.0)\n",
      "Requirement already satisfied: kiwisolver>=1.0.1 in e:\\anaconda\\lib\\site-packages (from matplotlib>=1.5.3->bootstrapped) (1.4.4)\n",
      "Requirement already satisfied: packaging>=20.0 in e:\\anaconda\\lib\\site-packages (from matplotlib>=1.5.3->bootstrapped) (23.1)\n",
      "Requirement already satisfied: pillow>=6.2.0 in e:\\anaconda\\lib\\site-packages (from matplotlib>=1.5.3->bootstrapped) (9.4.0)\n",
      "Requirement already satisfied: pyparsing<3.1,>=2.3.1 in e:\\anaconda\\lib\\site-packages (from matplotlib>=1.5.3->bootstrapped) (3.0.9)\n",
      "Requirement already satisfied: python-dateutil>=2.7 in e:\\anaconda\\lib\\site-packages (from matplotlib>=1.5.3->bootstrapped) (2.8.2)\n",
      "Requirement already satisfied: pytz>=2020.1 in e:\\anaconda\\lib\\site-packages (from pandas>=0.18.1->bootstrapped) (2023.3.post1)\n",
      "Requirement already satisfied: tzdata>=2022.1 in e:\\anaconda\\lib\\site-packages (from pandas>=0.18.1->bootstrapped) (2023.3)\n",
      "Requirement already satisfied: six>=1.5 in e:\\anaconda\\lib\\site-packages (from python-dateutil>=2.7->matplotlib>=1.5.3->bootstrapped) (1.16.0)\n",
      "Building wheels for collected packages: bootstrapped\n",
      "  Building wheel for bootstrapped (setup.py): started\n",
      "  Building wheel for bootstrapped (setup.py): finished with status 'done'\n",
      "  Created wheel for bootstrapped: filename=bootstrapped-0.0.2-py2.py3-none-any.whl size=13972 sha256=3b6a87e3d0d6fcdd6ceb82c198938f31e879b22a2adf9b4d3d1b57d5f59b36e4\n",
      "  Stored in directory: c:\\users\\vovac\\appdata\\local\\pip\\cache\\wheels\\8b\\47\\d1\\909397af2748ea916f6b72c346055e2426e7980bd1894b3633\n",
      "Successfully built bootstrapped\n",
      "Installing collected packages: bootstrapped\n",
      "Successfully installed bootstrapped-0.0.2\n"
     ]
    }
   ],
   "source": [
    "!pip install bootstrapped"
   ]
  },
  {
   "cell_type": "code",
   "execution_count": 107,
   "id": "947bbae1",
   "metadata": {},
   "outputs": [],
   "source": [
    "import bootstrapped.bootstrap as bs\n",
    "import bootstrapped.stats_functions as bs_stats\n",
    "import bootstrapped.compare_functions as bs_compare"
   ]
  },
  {
   "cell_type": "markdown",
   "id": "64878190",
   "metadata": {},
   "source": [
    "<h1>Проведемо стат. тест для різниці в сердній виручкі між варіантами"
   ]
  },
  {
   "cell_type": "code",
   "execution_count": 108,
   "id": "a9ba11da",
   "metadata": {},
   "outputs": [
    {
     "data": {
      "text/html": [
       "<div>\n",
       "<style scoped>\n",
       "    .dataframe tbody tr th:only-of-type {\n",
       "        vertical-align: middle;\n",
       "    }\n",
       "\n",
       "    .dataframe tbody tr th {\n",
       "        vertical-align: top;\n",
       "    }\n",
       "\n",
       "    .dataframe thead th {\n",
       "        text-align: right;\n",
       "    }\n",
       "</style>\n",
       "<table border=\"1\" class=\"dataframe\">\n",
       "  <thead>\n",
       "    <tr style=\"text-align: right;\">\n",
       "      <th></th>\n",
       "      <th>user_id</th>\n",
       "      <th>install_date</th>\n",
       "      <th>country</th>\n",
       "      <th>test_group</th>\n",
       "      <th>trial</th>\n",
       "      <th>paid</th>\n",
       "      <th>subscription_name</th>\n",
       "      <th>revenue_1m</th>\n",
       "    </tr>\n",
       "  </thead>\n",
       "  <tbody>\n",
       "    <tr>\n",
       "      <th>0</th>\n",
       "      <td>0000dd3fa4702a63d1b76aaffe1ab39b</td>\n",
       "      <td>2023-06-05</td>\n",
       "      <td>US</td>\n",
       "      <td>treatment</td>\n",
       "      <td>0</td>\n",
       "      <td>0</td>\n",
       "      <td>NaN</td>\n",
       "      <td>0.0</td>\n",
       "    </tr>\n",
       "    <tr>\n",
       "      <th>1</th>\n",
       "      <td>0001f27ab7e22228e54c8b2028b43f24</td>\n",
       "      <td>2023-06-07</td>\n",
       "      <td>AU</td>\n",
       "      <td>treatment</td>\n",
       "      <td>0</td>\n",
       "      <td>0</td>\n",
       "      <td>NaN</td>\n",
       "      <td>0.0</td>\n",
       "    </tr>\n",
       "    <tr>\n",
       "      <th>2</th>\n",
       "      <td>0006c5c547801308b36ea3cf669856ae</td>\n",
       "      <td>2023-06-07</td>\n",
       "      <td>AU</td>\n",
       "      <td>treatment</td>\n",
       "      <td>0</td>\n",
       "      <td>0</td>\n",
       "      <td>NaN</td>\n",
       "      <td>0.0</td>\n",
       "    </tr>\n",
       "    <tr>\n",
       "      <th>3</th>\n",
       "      <td>000d1a300263c5db91cbefa3852898a7</td>\n",
       "      <td>2023-06-07</td>\n",
       "      <td>AU</td>\n",
       "      <td>control</td>\n",
       "      <td>0</td>\n",
       "      <td>0</td>\n",
       "      <td>NaN</td>\n",
       "      <td>0.0</td>\n",
       "    </tr>\n",
       "    <tr>\n",
       "      <th>4</th>\n",
       "      <td>000e5e62e8746e467ed9f49ac5de3208</td>\n",
       "      <td>2023-06-06</td>\n",
       "      <td>US</td>\n",
       "      <td>treatment</td>\n",
       "      <td>0</td>\n",
       "      <td>0</td>\n",
       "      <td>NaN</td>\n",
       "      <td>0.0</td>\n",
       "    </tr>\n",
       "  </tbody>\n",
       "</table>\n",
       "</div>"
      ],
      "text/plain": [
       "                            user_id install_date country test_group  trial  \\\n",
       "0  0000dd3fa4702a63d1b76aaffe1ab39b   2023-06-05      US  treatment      0   \n",
       "1  0001f27ab7e22228e54c8b2028b43f24   2023-06-07      AU  treatment      0   \n",
       "2  0006c5c547801308b36ea3cf669856ae   2023-06-07      AU  treatment      0   \n",
       "3  000d1a300263c5db91cbefa3852898a7   2023-06-07      AU    control      0   \n",
       "4  000e5e62e8746e467ed9f49ac5de3208   2023-06-06      US  treatment      0   \n",
       "\n",
       "   paid subscription_name  revenue_1m  \n",
       "0     0               NaN         0.0  \n",
       "1     0               NaN         0.0  \n",
       "2     0               NaN         0.0  \n",
       "3     0               NaN         0.0  \n",
       "4     0               NaN         0.0  "
      ]
     },
     "execution_count": 108,
     "metadata": {},
     "output_type": "execute_result"
    }
   ],
   "source": [
    "df.head()"
   ]
  },
  {
   "cell_type": "code",
   "execution_count": 149,
   "id": "4d5b5600",
   "metadata": {},
   "outputs": [],
   "source": [
    "control = df[df['test_group'] == 'control']['revenue_1m'].dropna().values\n",
    "test = df[df['test_group'] == 'treatment']['revenue_1m'].dropna().values"
   ]
  },
  {
   "cell_type": "code",
   "execution_count": 150,
   "id": "960cdfcb",
   "metadata": {},
   "outputs": [
    {
     "data": {
      "text/plain": [
       "array([ 0.01822541,  0.00526908,  0.01707651, ..., -0.00137739,\n",
       "        0.00967606,  0.04325402])"
      ]
     },
     "execution_count": 150,
     "metadata": {},
     "output_type": "execute_result"
    }
   ],
   "source": [
    "boot_res = bs.bootstrap_ab(test=test, \n",
    "                           ctrl=control, \n",
    "                           stat_func=bs_stats.mean, \n",
    "                           compare_func=bs_compare.difference,\n",
    "                           return_distribution=True)\n",
    "boot_res"
   ]
  },
  {
   "cell_type": "code",
   "execution_count": 153,
   "id": "a03cd45e",
   "metadata": {},
   "outputs": [
    {
     "data": {
      "text/plain": [
       "array([-0.01263359,  0.03775689])"
      ]
     },
     "execution_count": 153,
     "metadata": {},
     "output_type": "execute_result"
    }
   ],
   "source": [
    "boot_res\n",
    "borders=np.percentile(boot_res,[2.5,97.5])\n",
    "import warnings\n",
    "warnings.filterwarnings(\"ignore\")\n",
    "borders"
   ]
  },
  {
   "cell_type": "code",
   "execution_count": 176,
   "id": "c2a5fd3c",
   "metadata": {},
   "outputs": [
    {
     "data": {
      "image/png": "[encoded data removed]",
      "text/plain": [
       "<Figure size 1200x600 with 1 Axes>"
      ]
     },
     "metadata": {},
     "output_type": "display_data"
    }
   ],
   "source": [
    "sns.distplot(boot_res)\n",
    "plt.title('Bootstrap-розподіл різниць середьної виручки від підписки')\n",
    "plt.rcParams['figure.figsize']=(12,6)\n",
    "plt.vlines(0,ymin=0,ymax=33,linestyles='--',colors='blue')\n",
    "plt.vlines(borders, ymin=0, ymax=33,linestyles='--',colors='red', label='95%-довірчий інтервал')\n",
    "plt.legend()\n",
    "plt.show()"
   ]
  },
  {
   "cell_type": "markdown",
   "id": "2e8cc98d",
   "metadata": {},
   "source": [
    "<h1>Статистично значимої різниці для середнього чека не виявлено, адже 0 входить в довірчий інтервал різниці між групами."
   ]
  },
  {
   "cell_type": "code",
   "execution_count": 159,
   "id": "680f11aa",
   "metadata": {},
   "outputs": [
    {
     "data": {
      "text/html": [
       "<div>\n",
       "<style scoped>\n",
       "    .dataframe tbody tr th:only-of-type {\n",
       "        vertical-align: middle;\n",
       "    }\n",
       "\n",
       "    .dataframe tbody tr th {\n",
       "        vertical-align: top;\n",
       "    }\n",
       "\n",
       "    .dataframe thead th {\n",
       "        text-align: right;\n",
       "    }\n",
       "</style>\n",
       "<table border=\"1\" class=\"dataframe\">\n",
       "  <thead>\n",
       "    <tr style=\"text-align: right;\">\n",
       "      <th></th>\n",
       "      <th>trial</th>\n",
       "      <th>paid</th>\n",
       "      <th>user_id</th>\n",
       "      <th>Trial/Install</th>\n",
       "      <th>Paid/Trial</th>\n",
       "    </tr>\n",
       "    <tr>\n",
       "      <th>test_group</th>\n",
       "      <th></th>\n",
       "      <th></th>\n",
       "      <th></th>\n",
       "      <th></th>\n",
       "      <th></th>\n",
       "    </tr>\n",
       "  </thead>\n",
       "  <tbody>\n",
       "    <tr>\n",
       "      <th>control</th>\n",
       "      <td>925</td>\n",
       "      <td>116</td>\n",
       "      <td>7627</td>\n",
       "      <td>12.13</td>\n",
       "      <td>12.54</td>\n",
       "    </tr>\n",
       "    <tr>\n",
       "      <th>treatment</th>\n",
       "      <td>798</td>\n",
       "      <td>149</td>\n",
       "      <td>7658</td>\n",
       "      <td>10.42</td>\n",
       "      <td>18.67</td>\n",
       "    </tr>\n",
       "  </tbody>\n",
       "</table>\n",
       "</div>"
      ],
      "text/plain": [
       "            trial  paid  user_id  Trial/Install  Paid/Trial\n",
       "test_group                                                 \n",
       "control       925   116     7627          12.13       12.54\n",
       "treatment     798   149     7658          10.42       18.67"
      ]
     },
     "execution_count": 159,
     "metadata": {},
     "output_type": "execute_result"
    }
   ],
   "source": [
    "import statsmodels.stats.power as smp\n",
    "metrics"
   ]
  },
  {
   "cell_type": "code",
   "execution_count": 160,
   "id": "bfe5dc59",
   "metadata": {},
   "outputs": [],
   "source": [
    "chipower=smp.GofChisquarePower()"
   ]
  },
  {
   "cell_type": "markdown",
   "id": "d1cb3b11",
   "metadata": {},
   "source": [
    "<h1>Перевіряємо потужність теста та необхідний розмір вибірки"
   ]
  },
  {
   "cell_type": "code",
   "execution_count": 161,
   "id": "725ed18b",
   "metadata": {},
   "outputs": [],
   "source": [
    "conversion_control = metrics['Paid/Trial'].values[0]/100\n",
    "conversion_test = metrics['Paid/Trial'].values[1]/100\n",
    "nobs=min(metrics['user_id'])"
   ]
  },
  {
   "cell_type": "code",
   "execution_count": 166,
   "id": "7e508b1e",
   "metadata": {},
   "outputs": [],
   "source": [
    "def chi2_effect_size(p0,p1):\n",
    "    return np.sqrt(((p0-p1)**2/p0))"
   ]
  },
  {
   "cell_type": "code",
   "execution_count": 168,
   "id": "9921842e",
   "metadata": {},
   "outputs": [
    {
     "data": {
      "text/plain": [
       "1.0"
      ]
     },
     "execution_count": 168,
     "metadata": {},
     "output_type": "execute_result"
    }
   ],
   "source": [
    "chipower.solve_power(effect_size = chi2_effect_size(conversion_control, conversion_test),\n",
    "                    nobs=nobs,\n",
    "                    alpha = 0.05,\n",
    "                    power = None)"
   ]
  },
  {
   "cell_type": "code",
   "execution_count": 169,
   "id": "7c679d27",
   "metadata": {},
   "outputs": [],
   "source": [
    "power = 0.8"
   ]
  },
  {
   "cell_type": "code",
   "execution_count": 170,
   "id": "8ea27605",
   "metadata": {},
   "outputs": [],
   "source": [
    "size_of_each_test_group=chipower.solve_power(effect_size = chi2_effect_size(conversion_control, conversion_test),\n",
    "                    nobs=None,\n",
    "                    alpha = 0.05,\n",
    "                    power = power)"
   ]
  },
  {
   "cell_type": "code",
   "execution_count": 172,
   "id": "528ef26f",
   "metadata": {},
   "outputs": [
    {
     "data": {
      "text/plain": [
       "523.857533712812"
      ]
     },
     "execution_count": 172,
     "metadata": {},
     "output_type": "execute_result"
    }
   ],
   "source": [
    "size_of_each_test_group*2"
   ]
  },
  {
   "cell_type": "markdown",
   "id": "c7419562",
   "metadata": {},
   "source": [
    "<h1>Background:</h1>\n",
    "    \n",
    "<span style=\"font-size: 20px;\">В даному датасеті продукт - мобільний застосунок з моделлю підписок, на якому запустили\n",
    "монетизаційний A/B тест, в якому тестували альтернативну підписку:\n",
    "    \n",
    "<span style=\"font-size: 20px;\">- control - користувачам пропонувалась місячна підписка за $5.99 з триденним пробним\n",
    "періодом.\n",
    "\n",
    "<span style=\"font-size: 20px;\">- treatment - користувачам пропонувалась тижнева підписка за $2.99 з триденним\n",
    "пробним періодом.\n",
    "    \n",
    "<span style=\"font-size: 20px;\">Тест проводили протягом тижня на локаціях з Tier-1: Австралія, Велика Британія, США та\n",
    "Канада.</span>"
   ]
  },
  {
   "cell_type": "markdown",
   "id": "1ce8def2",
   "metadata": {},
   "source": [
    "<h1>Висновки:</h1>\n",
    "    \n",
    "<span style=\"font-size: 20px;\">- результати теста неоднозначні, по конверсіям в нового варіанту явний успіх, але нова аудиторія в середньому платить 1.8 раза на місяць, і це серйозно зменишло ARPPU, тому рішення чи приймати, чи відхиляти даний варіант залежить від стратегії компанії і наявних фінансових ресурсів. Це новвоведення серйозно збільшило конверсію з спроби пробного періода до купівлі підписки, можливо якщо направити фокус на етапи воронки «Click – Install» та «Install – Trial», то в майбутньому ефект від цього нововедення перевершить поточні втрати через падіння ARPPU. Тобто якщо компанія орієнтована на залучення нової бази юзерів – приймаємо тижневу підписку, якщо ціль компанії на даний момент підвищення монетизації – відхиляємо;\n",
    "    \n",
    "<span style=\"font-size: 20px;\">- в експеремента правильний дизайн, вибірка достатня;\n",
    "\n",
    "<span style=\"font-size: 20px;\">- між конверсіями присутня статистична значимість: \n",
    "p-value(0.0442)<alpha;\n",
    "\n",
    "<span style=\"font-size: 20px;\">- між середніми чеками статистична різниця не виявлена, можливо вплив випадковості."
   ]
  }
 ],
 "metadata": {
  "kernelspec": {
   "display_name": "Python 3 (ipykernel)",
   "language": "python",
   "name": "python3"
  },
  "language_info": {
   "codemirror_mode": {
    "name": "ipython",
    "version": 3
   },
   "file_extension": ".py",
   "mimetype": "text/x-python",
   "name": "python",
   "nbconvert_exporter": "python",
   "pygments_lexer": "ipython3",
   "version": "3.11.5"
  }
 },
 "nbformat": 4,
 "nbformat_minor": 5
}
